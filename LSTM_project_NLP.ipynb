{
  "nbformat": 4,
  "nbformat_minor": 0,
  "metadata": {
    "colab": {
      "provenance": [],
      "toc_visible": true,
      "gpuType": "T4"
    },
    "kernelspec": {
      "name": "python3",
      "display_name": "Python 3"
    },
    "language_info": {
      "name": "python"
    },
    "accelerator": "GPU"
  },
  "cells": [
    {
      "cell_type": "markdown",
      "source": [
        "# Load Kaggle API key"
      ],
      "metadata": {
        "id": "R9yWlwyktJ4-"
      }
    },
    {
      "cell_type": "code",
      "source": [
        "from google.colab import userdata\n",
        "\n",
        "# prompt: load username and key from  from google.colab import userdata\n",
        "# userdata.get('secretName')\n",
        "\n",
        "username = userdata.get('username')\n",
        "key = userdata.get('key')\n"
      ],
      "metadata": {
        "id": "1S9Aipthsjt4"
      },
      "execution_count": 1,
      "outputs": []
    },
    {
      "cell_type": "code",
      "source": [
        "# prompt: create kaggle.json  in /root/.config/kaggle.  using loaded username and key\n",
        "\n",
        "import json\n",
        "import os\n",
        "\n",
        "# Ensure the directory exists\n",
        "if not os.path.exists('/root/.config/kaggle'):\n",
        "    os.makedirs('/root/.config/kaggle')\n",
        "\n",
        "# Define the path for the kaggle.json file\n",
        "kaggle_json_path = '/root/.config/kaggle/kaggle.json'\n",
        "\n",
        "# Create the dictionary structure for the kaggle.json file\n",
        "kaggle_config = {\"username\": username, \"key\": key}\n",
        "\n",
        "# Write the dictionary to the kaggle.json file as JSON\n",
        "with open(kaggle_json_path, 'w') as f:\n",
        "    json.dump(kaggle_config, f)\n",
        "\n",
        "# Set appropriate permissions for the kaggle.json file\n",
        "os.chmod(kaggle_json_path, 0o600)\n",
        "\n",
        "print(f\"kaggle.json created at {kaggle_json_path}\")"
      ],
      "metadata": {
        "colab": {
          "base_uri": "https://localhost:8080/"
        },
        "id": "MoRgXmxcs1xw",
        "outputId": "7fe04423-cefd-42ef-b807-e5474aa56b0c"
      },
      "execution_count": 2,
      "outputs": [
        {
          "output_type": "stream",
          "name": "stdout",
          "text": [
            "kaggle.json created at /root/.config/kaggle/kaggle.json\n"
          ]
        }
      ]
    },
    {
      "cell_type": "markdown",
      "source": [
        "# Download dataset"
      ],
      "metadata": {
        "id": "Ir8_KB0PtPlt"
      }
    },
    {
      "cell_type": "code",
      "execution_count": 3,
      "metadata": {
        "colab": {
          "base_uri": "https://localhost:8080/"
        },
        "id": "e7r-Y_u2q3cl",
        "outputId": "8836d062-a22c-4342-f87a-ccef65f796de"
      },
      "outputs": [
        {
          "output_type": "stream",
          "name": "stdout",
          "text": [
            "Downloading tweet-sentiment-extraction.zip to /content\n",
            "\r  0% 0.00/1.39M [00:00<?, ?B/s]\n",
            "\r100% 1.39M/1.39M [00:00<00:00, 564MB/s]\n"
          ]
        }
      ],
      "source": [
        "!kaggle competitions download -c tweet-sentiment-extraction"
      ]
    },
    {
      "cell_type": "markdown",
      "source": [
        "# Text preprocessing\n",
        "\n",
        "## Extractor"
      ],
      "metadata": {
        "id": "igG7CzljtRt1"
      }
    },
    {
      "cell_type": "code",
      "source": [
        "import zipfile\n",
        "import os\n",
        "\n",
        "zip_path = 'tweet-sentiment-extraction.zip'\n",
        "extract_dir = 'tweet-sentiment-extraction'\n",
        "\n",
        "with zipfile.ZipFile(zip_path, 'r') as zip_ref:\n",
        "    zip_ref.extractall(extract_dir)\n",
        "\n",
        "print(f\"Extracted '{zip_path}' to '{extract_dir}/'\")"
      ],
      "metadata": {
        "colab": {
          "base_uri": "https://localhost:8080/"
        },
        "id": "nwuqbfLEsWPD",
        "outputId": "3dc27ccb-2794-4d7c-fdd5-3106f12d008d"
      },
      "execution_count": 4,
      "outputs": [
        {
          "output_type": "stream",
          "name": "stdout",
          "text": [
            "Extracted 'tweet-sentiment-extraction.zip' to 'tweet-sentiment-extraction/'\n"
          ]
        }
      ]
    },
    {
      "cell_type": "markdown",
      "source": [
        "## Preprocessor"
      ],
      "metadata": {
        "id": "7qN_yeWLtZTB"
      }
    },
    {
      "cell_type": "code",
      "source": [
        "!pip install emoji contractions nltk"
      ],
      "metadata": {
        "colab": {
          "base_uri": "https://localhost:8080/"
        },
        "id": "qYX6_k0uuARC",
        "outputId": "84b4ba15-e9dc-4480-8496-7b47b9d1af52"
      },
      "execution_count": 5,
      "outputs": [
        {
          "output_type": "stream",
          "name": "stdout",
          "text": [
            "Collecting emoji\n",
            "  Downloading emoji-2.14.1-py3-none-any.whl.metadata (5.7 kB)\n",
            "Collecting contractions\n",
            "  Downloading contractions-0.1.73-py2.py3-none-any.whl.metadata (1.2 kB)\n",
            "Requirement already satisfied: nltk in /usr/local/lib/python3.11/dist-packages (3.9.1)\n",
            "Collecting textsearch>=0.0.21 (from contractions)\n",
            "  Downloading textsearch-0.0.24-py2.py3-none-any.whl.metadata (1.2 kB)\n",
            "Requirement already satisfied: click in /usr/local/lib/python3.11/dist-packages (from nltk) (8.2.1)\n",
            "Requirement already satisfied: joblib in /usr/local/lib/python3.11/dist-packages (from nltk) (1.5.1)\n",
            "Requirement already satisfied: regex>=2021.8.3 in /usr/local/lib/python3.11/dist-packages (from nltk) (2024.11.6)\n",
            "Requirement already satisfied: tqdm in /usr/local/lib/python3.11/dist-packages (from nltk) (4.67.1)\n",
            "Collecting anyascii (from textsearch>=0.0.21->contractions)\n",
            "  Downloading anyascii-0.3.2-py3-none-any.whl.metadata (1.5 kB)\n",
            "Collecting pyahocorasick (from textsearch>=0.0.21->contractions)\n",
            "  Downloading pyahocorasick-2.1.0-cp311-cp311-manylinux_2_17_x86_64.manylinux2014_x86_64.whl.metadata (13 kB)\n",
            "Downloading emoji-2.14.1-py3-none-any.whl (590 kB)\n",
            "\u001b[2K   \u001b[90m━━━━━━━━━━━━━━━━━━━━━━━━━━━━━━━━━━━━━━━━\u001b[0m \u001b[32m590.6/590.6 kB\u001b[0m \u001b[31m11.5 MB/s\u001b[0m eta \u001b[36m0:00:00\u001b[0m\n",
            "\u001b[?25hDownloading contractions-0.1.73-py2.py3-none-any.whl (8.7 kB)\n",
            "Downloading textsearch-0.0.24-py2.py3-none-any.whl (7.6 kB)\n",
            "Downloading anyascii-0.3.2-py3-none-any.whl (289 kB)\n",
            "\u001b[2K   \u001b[90m━━━━━━━━━━━━━━━━━━━━━━━━━━━━━━━━━━━━━━━━\u001b[0m \u001b[32m289.9/289.9 kB\u001b[0m \u001b[31m20.4 MB/s\u001b[0m eta \u001b[36m0:00:00\u001b[0m\n",
            "\u001b[?25hDownloading pyahocorasick-2.1.0-cp311-cp311-manylinux_2_17_x86_64.manylinux2014_x86_64.whl (118 kB)\n",
            "\u001b[2K   \u001b[90m━━━━━━━━━━━━━━━━━━━━━━━━━━━━━━━━━━━━━━━━\u001b[0m \u001b[32m118.3/118.3 kB\u001b[0m \u001b[31m7.7 MB/s\u001b[0m eta \u001b[36m0:00:00\u001b[0m\n",
            "\u001b[?25hInstalling collected packages: pyahocorasick, emoji, anyascii, textsearch, contractions\n",
            "Successfully installed anyascii-0.3.2 contractions-0.1.73 emoji-2.14.1 pyahocorasick-2.1.0 textsearch-0.0.24\n"
          ]
        }
      ]
    },
    {
      "cell_type": "code",
      "source": [
        "import pandas as pd\n",
        "\n",
        "train = pd.read_csv('tweet-sentiment-extraction/train.csv')\n",
        "test = pd.read_csv('tweet-sentiment-extraction/test.csv')\n",
        "\n",
        "import re\n",
        "import emoji\n",
        "import contractions\n",
        "import string\n",
        "import nltk\n",
        "\n",
        "from nltk.corpus import stopwords\n",
        "\n",
        "# Make sure these are downloaded\n",
        "nltk.download('punkt')\n",
        "nltk.download('stopwords')\n",
        "nltk.download('wordnet')\n",
        "nltk.download('punkt_tab')\n",
        "\n",
        "\n",
        "\n",
        "# Precompiled patterns\n",
        "pattern_web     = re.compile(r\"(([\\w]+:)?//)?(([\\d\\w]|%[a-fA-F\\d]{2})+(:([\\d\\w]|%[a-fA-f\\d]{2})+)?@)?([\\d\\w][-\\d\\w]{0,253}[\\d\\w]\\.)+[\\w]{2,4}(:[\\d]+)?(/([-+_~.\\d\\w]|%[a-fA-f\\d]{2})*)*(\\?(&?([-+_~.\\d\\w]|%[a-fA-f\\d]{2})=?)*)?(#([-+_~.\\d\\w]|%[a-fA-f\\d]{2})*)?\")\n",
        "pattern_email   = re.compile(r\"(?:[a-z0-9!#$%&'*+/=?^_`{|}~-]+(?:\\.[a-z0-9!#$%&'*+/=?^_`{|}~-]+)*|(?:[\\x01-\\x08\\x0b\\x0c\\x0e-\\x1f\\x21\\x23-\\x5b\\x5d-\\x7f]|\\\\[\\x01-\\x09\\x0b\\x0c\\x0e-\\x7f])*)@(?:(?:[a-z0-9](?:[a-z0-9-]*[a-z0-9])?\\.)+[a-z0-9](?:[a-z0-9-]*[a-z0-9])?|\\[(?:(?:25[0-5]|2[0-4][0-9]|[01]?[0-9][0-9]?)\\.){3}(?:25[0-5]|2[0-4][0-9]|[01]?[0-9][0-9]?|[a-z0-9-]*[a-z0-9]:(?:[\\x01-\\x08\\x0b\\x0c\\x0e-\\x1f\\x21-\\x5a\\x53-\\x7f]|\\\\[\\x01-\\x09\\x0b\\x0c\\x0e-\\x7f])+)])\")\n",
        "pattern_hash    = re.compile(r'#(\\w+)')\n",
        "pattern_handle  = re.compile(r'@\\w+')\n",
        "pattern_repeat  = re.compile(r'([A-Za-z])\\1{2,}')\n",
        "pattern_num     = re.compile(r'[0-9]')\n",
        "pattern_apos    = re.compile(r'[`’]')\n",
        "# We'll strip all punctuation except our <EXC> and <QUES> tokens\n",
        "# So exclude '<', '>', and letters in those tokens from the regex\n",
        "punct_to_keep   = '<> '\n",
        "all_punc        = set(string.punctuation) - set('<>')\n",
        "pattern_punc    = re.compile(f\"[{re.escape(''.join(all_punc))}]\")\n",
        "pattern_special = re.compile(r'[^a-zA-Z0-9\\s<>]')\n",
        "pattern_space   = re.compile(r'\\s+')\n",
        "\n",
        "def preprocess_single_text(tweet: str) -> str:\n",
        "    # 1) Emoji → text\n",
        "    tweet = emoji.demojize(str(tweet))\n",
        "\n",
        "    # 2) URLs, emails, hashtags, handles\n",
        "    tweet = pattern_web.sub(' ', tweet)\n",
        "    tweet = pattern_email.sub(' ', tweet)\n",
        "    tweet = pattern_hash.sub(r' \\1', tweet)  # keep just the word of #tag\n",
        "    tweet = pattern_handle.sub(' ', tweet)\n",
        "\n",
        "    # 3) Normalize apostrophes + expand contractions\n",
        "    tweet = pattern_apos.sub(\"'\", tweet)\n",
        "    tweet = contractions.fix(tweet)\n",
        "\n",
        "    # 4) Map repeated sentiment punctuation\n",
        "    tweet = re.sub(r'!{2,}', ' <EXC> ', tweet)\n",
        "    tweet = re.sub(r'\\?{2,}', ' <QUES> ', tweet)\n",
        "\n",
        "    # 5) Character repeats, numbers, punctuation, special chars\n",
        "    tweet = pattern_repeat.sub(r'\\1', tweet)\n",
        "    tweet = pattern_num.sub(' ', tweet)\n",
        "    tweet = pattern_punc.sub(' ', tweet)\n",
        "    tweet = pattern_special.sub(' ', tweet)\n",
        "\n",
        "    # 6) Lowercase\n",
        "    tweet = tweet.lower()\n",
        "\n",
        "    # 7) Whitespace normalization\n",
        "    tweet = pattern_space.sub(' ', tweet).strip()\n",
        "\n",
        "    return tweet\n",
        "\n",
        "def preprocess_dataset(dataset: pd.DataFrame):\n",
        "    # drop textID and selected_text column if exists\n",
        "    cols_to_drop = [col for col in ['textID', 'selected_text'] if col in dataset.columns]\n",
        "    dataset = dataset.drop(columns=cols_to_drop)\n",
        "\n",
        "    # Apply preprocess_single_text to each row of 'text'\n",
        "    if 'text' in dataset.columns:\n",
        "        dataset['text'] = dataset['text'].apply(preprocess_single_text)\n",
        "\n",
        "    return dataset\n"
      ],
      "metadata": {
        "colab": {
          "base_uri": "https://localhost:8080/"
        },
        "id": "cTNVyk08tpf6",
        "outputId": "bbbe5819-24e8-4b35-b773-6256bd378bbf"
      },
      "execution_count": 6,
      "outputs": [
        {
          "output_type": "stream",
          "name": "stderr",
          "text": [
            "[nltk_data] Downloading package punkt to /root/nltk_data...\n",
            "[nltk_data]   Unzipping tokenizers/punkt.zip.\n",
            "[nltk_data] Downloading package stopwords to /root/nltk_data...\n",
            "[nltk_data]   Unzipping corpora/stopwords.zip.\n",
            "[nltk_data] Downloading package wordnet to /root/nltk_data...\n",
            "[nltk_data] Downloading package punkt_tab to /root/nltk_data...\n",
            "[nltk_data]   Unzipping tokenizers/punkt_tab.zip.\n"
          ]
        }
      ]
    },
    {
      "cell_type": "code",
      "source": [
        "print (\"Before text processing...\")\n",
        "print(train)\n",
        "print(test)\n",
        "\n",
        "print (\"After text processing...\")\n",
        "train = preprocess_dataset(train)\n",
        "test  = preprocess_dataset(test)\n",
        "print(train)\n",
        "print(test)"
      ],
      "metadata": {
        "colab": {
          "base_uri": "https://localhost:8080/"
        },
        "id": "0aIzi9-buQKl",
        "outputId": "f18a932d-09b0-4ad6-d2ad-bde40abc11f2"
      },
      "execution_count": 7,
      "outputs": [
        {
          "output_type": "stream",
          "name": "stdout",
          "text": [
            "Before text processing...\n",
            "           textID                                               text  \\\n",
            "0      cb774db0d1                I`d have responded, if I were going   \n",
            "1      549e992a42      Sooo SAD I will miss you here in San Diego!!!   \n",
            "2      088c60f138                          my boss is bullying me...   \n",
            "3      9642c003ef                     what interview! leave me alone   \n",
            "4      358bd9e861   Sons of ****, why couldn`t they put them on t...   \n",
            "...           ...                                                ...   \n",
            "27476  4eac33d1c0   wish we could come see u on Denver  husband l...   \n",
            "27477  4f4c4fc327   I`ve wondered about rake to.  The client has ...   \n",
            "27478  f67aae2310   Yay good for both of you. Enjoy the break - y...   \n",
            "27479  ed167662a5                         But it was worth it  ****.   \n",
            "27480  6f7127d9d7     All this flirting going on - The ATG smiles...   \n",
            "\n",
            "                                           selected_text sentiment  \n",
            "0                    I`d have responded, if I were going   neutral  \n",
            "1                                               Sooo SAD  negative  \n",
            "2                                            bullying me  negative  \n",
            "3                                         leave me alone  negative  \n",
            "4                                          Sons of ****,  negative  \n",
            "...                                                  ...       ...  \n",
            "27476                                             d lost  negative  \n",
            "27477                                      , don`t force  negative  \n",
            "27478                          Yay good for both of you.  positive  \n",
            "27479                         But it was worth it  ****.  positive  \n",
            "27480  All this flirting going on - The ATG smiles. Y...   neutral  \n",
            "\n",
            "[27481 rows x 4 columns]\n",
            "          textID                                               text sentiment\n",
            "0     f87dea47db  Last session of the day  http://twitpic.com/67ezh   neutral\n",
            "1     96d74cb729   Shanghai is also really exciting (precisely -...  positive\n",
            "2     eee518ae67  Recession hit Veronique Branquinho, she has to...  negative\n",
            "3     01082688c6                                        happy bday!  positive\n",
            "4     33987a8ee5             http://twitpic.com/4w75p - I like it!!  positive\n",
            "...          ...                                                ...       ...\n",
            "3529  e5f0e6ef4b  its at 3 am, im very tired but i can`t sleep  ...  negative\n",
            "3530  416863ce47  All alone in this old house again.  Thanks for...  positive\n",
            "3531  6332da480c   I know what you mean. My little dog is sinkin...  negative\n",
            "3532  df1baec676  _sutra what is your next youtube video gonna b...  positive\n",
            "3533  469e15c5a8   http://twitpic.com/4woj2 - omgssh  ang cute n...  positive\n",
            "\n",
            "[3534 rows x 3 columns]\n",
            "After text processing...\n",
            "                                                    text sentiment\n",
            "0                 i would have responded if i were going   neutral\n",
            "1         so sad i will miss you here in san diego <exc>  negative\n",
            "2                                 my boss is bullying me  negative\n",
            "3                          what interview leave me alone  negative\n",
            "4      sons of why could not they put them on the rel...  negative\n",
            "...                                                  ...       ...\n",
            "27476  wish we could come see you on denver husband l...  negative\n",
            "27477  i have wondered about rake to the client has m...  negative\n",
            "27478  yay good for both of you enjoy the break you p...  positive\n",
            "27479                                but it was worth it  positive\n",
            "27480  all this flirting going on the atg smiles yay ...   neutral\n",
            "\n",
            "[27481 rows x 2 columns]\n",
            "                                                   text sentiment\n",
            "0                               last session of the day   neutral\n",
            "1     shanghai is also really exciting precisely sky...  positive\n",
            "2     recession hit veronique branquinho she has to ...  negative\n",
            "3                                        happy birthday  positive\n",
            "4                                       i like it <exc>  positive\n",
            "...                                                 ...       ...\n",
            "3529  its at am i am very tired but i cannot sleep b...  negative\n",
            "3530  all alone in this old house again thanks for t...  positive\n",
            "3531  i know what you mean my little dog is sinking ...  negative\n",
            "3532  sutra what is your next youtube video going to...  positive\n",
            "3533                             omgssh ang cute ng bby  positive\n",
            "\n",
            "[3534 rows x 2 columns]\n"
          ]
        }
      ]
    },
    {
      "cell_type": "markdown",
      "source": [
        "## Tokenization"
      ],
      "metadata": {
        "id": "HumD3ud4vQXX"
      }
    },
    {
      "cell_type": "code",
      "source": [
        "from nltk.stem import WordNetLemmatizer\n",
        "from nltk.tokenize import word_tokenize\n",
        "lemmatizer = WordNetLemmatizer()\n",
        "import numpy as np\n",
        "nltk.download('wordnet', \"/kaggle/working/nltk_data/\")\n",
        "nltk.download('omw-1.4', \"/kaggle/working/nltk_data/\")\n",
        "! unzip /kaggle/working/nltk_data/corpora/wordnet.zip -d /kaggle/working/nltk_data/corpora\n",
        "! unzip /kaggle/working/nltk_data/corpora/omw-1.4.zip -d /kaggle/working/nltk_data/corpora\n",
        "nltk.data.path.append(\"/kaggle/working/nltk_data/\")\n",
        "\n",
        "# Setup\n",
        "stop_words = set(stopwords.words('english'))\n",
        "\n",
        "# Preserve negators\n",
        "for neg in ['not', 'no', 'never', 'none', 'nobody', 'nothing', \"don't\", \"didn't\", \"can't\", \"won't\"]:\n",
        "    stop_words.discard(neg)\n",
        "\n",
        "def tokenize_single_text(text):\n",
        "\n",
        "    words = word_tokenize(text)\n",
        "\n",
        "    lemmatizer = WordNetLemmatizer()\n",
        "    words = [lemmatizer.lemmatize(word) for word in words]\n",
        "\n",
        "    Words = [word for word in words if word not in stop_words]\n",
        "\n",
        "    Words = [word for word in Words if len(word) > 3]\n",
        "\n",
        "    indices = np.unique(Words, return_index=True)[1]\n",
        "    cleaned_text = np.array(Words)[np.sort(indices)].tolist()\n",
        "\n",
        "    return cleaned_text\n",
        "\n",
        "def tokenize_dataset(dataset):\n",
        "    dataset['text'] = dataset['text'].apply(tokenize_single_text)\n",
        "    return dataset\n"
      ],
      "metadata": {
        "colab": {
          "base_uri": "https://localhost:8080/"
        },
        "id": "5KBupnhOvSOF",
        "outputId": "b3b5f129-d0d9-4f10-8f87-3924b3583588"
      },
      "execution_count": 8,
      "outputs": [
        {
          "output_type": "stream",
          "name": "stderr",
          "text": [
            "[nltk_data] Downloading package wordnet to\n",
            "[nltk_data]     /kaggle/working/nltk_data/...\n",
            "[nltk_data] Downloading package omw-1.4 to\n",
            "[nltk_data]     /kaggle/working/nltk_data/...\n"
          ]
        },
        {
          "output_type": "stream",
          "name": "stdout",
          "text": [
            "Archive:  /kaggle/working/nltk_data/corpora/wordnet.zip\n",
            "   creating: /kaggle/working/nltk_data/corpora/wordnet/\n",
            "  inflating: /kaggle/working/nltk_data/corpora/wordnet/lexnames  \n",
            "  inflating: /kaggle/working/nltk_data/corpora/wordnet/data.verb  \n",
            "  inflating: /kaggle/working/nltk_data/corpora/wordnet/index.adv  \n",
            "  inflating: /kaggle/working/nltk_data/corpora/wordnet/adv.exc  \n",
            "  inflating: /kaggle/working/nltk_data/corpora/wordnet/index.verb  \n",
            "  inflating: /kaggle/working/nltk_data/corpora/wordnet/cntlist.rev  \n",
            "  inflating: /kaggle/working/nltk_data/corpora/wordnet/data.adj  \n",
            "  inflating: /kaggle/working/nltk_data/corpora/wordnet/index.adj  \n",
            "  inflating: /kaggle/working/nltk_data/corpora/wordnet/LICENSE  \n",
            "  inflating: /kaggle/working/nltk_data/corpora/wordnet/citation.bib  \n",
            "  inflating: /kaggle/working/nltk_data/corpora/wordnet/noun.exc  \n",
            "  inflating: /kaggle/working/nltk_data/corpora/wordnet/verb.exc  \n",
            "  inflating: /kaggle/working/nltk_data/corpora/wordnet/README  \n",
            "  inflating: /kaggle/working/nltk_data/corpora/wordnet/index.sense  \n",
            "  inflating: /kaggle/working/nltk_data/corpora/wordnet/data.noun  \n",
            "  inflating: /kaggle/working/nltk_data/corpora/wordnet/data.adv  \n",
            "  inflating: /kaggle/working/nltk_data/corpora/wordnet/index.noun  \n",
            "  inflating: /kaggle/working/nltk_data/corpora/wordnet/adj.exc  \n",
            "Archive:  /kaggle/working/nltk_data/corpora/omw-1.4.zip\n",
            "   creating: /kaggle/working/nltk_data/corpora/omw-1.4/\n",
            "   creating: /kaggle/working/nltk_data/corpora/omw-1.4/fin/\n",
            "  inflating: /kaggle/working/nltk_data/corpora/omw-1.4/fin/LICENSE  \n",
            "  inflating: /kaggle/working/nltk_data/corpora/omw-1.4/fin/citation.bib  \n",
            "  inflating: /kaggle/working/nltk_data/corpora/omw-1.4/fin/wn-data-fin.tab  \n",
            "   creating: /kaggle/working/nltk_data/corpora/omw-1.4/heb/\n",
            "  inflating: /kaggle/working/nltk_data/corpora/omw-1.4/heb/LICENSE  \n",
            "  inflating: /kaggle/working/nltk_data/corpora/omw-1.4/heb/citation.bib  \n",
            "  inflating: /kaggle/working/nltk_data/corpora/omw-1.4/heb/README  \n",
            "  inflating: /kaggle/working/nltk_data/corpora/omw-1.4/heb/wn-data-heb.tab  \n",
            "   creating: /kaggle/working/nltk_data/corpora/omw-1.4/slv/\n",
            "  inflating: /kaggle/working/nltk_data/corpora/omw-1.4/slv/LICENSE  \n",
            "  inflating: /kaggle/working/nltk_data/corpora/omw-1.4/slv/citation.bib  \n",
            "  inflating: /kaggle/working/nltk_data/corpora/omw-1.4/slv/README  \n",
            "  inflating: /kaggle/working/nltk_data/corpora/omw-1.4/slv/wn-data-slv.tab  \n",
            "   creating: /kaggle/working/nltk_data/corpora/omw-1.4/ita/\n",
            "  inflating: /kaggle/working/nltk_data/corpora/omw-1.4/ita/LICENSE  \n",
            "  inflating: /kaggle/working/nltk_data/corpora/omw-1.4/ita/citation.bib  \n",
            "  inflating: /kaggle/working/nltk_data/corpora/omw-1.4/ita/wn-data-ita.tab  \n",
            " extracting: /kaggle/working/nltk_data/corpora/omw-1.4/ita/README  \n",
            "   creating: /kaggle/working/nltk_data/corpora/omw-1.4/nor/\n",
            "  inflating: /kaggle/working/nltk_data/corpora/omw-1.4/nor/LICENSE  \n",
            "  inflating: /kaggle/working/nltk_data/corpora/omw-1.4/nor/citation.bib  \n",
            "  inflating: /kaggle/working/nltk_data/corpora/omw-1.4/nor/README  \n",
            "  inflating: /kaggle/working/nltk_data/corpora/omw-1.4/nor/wn-data-nno.tab  \n",
            "  inflating: /kaggle/working/nltk_data/corpora/omw-1.4/nor/wn-data-nob.tab  \n",
            "   creating: /kaggle/working/nltk_data/corpora/omw-1.4/als/\n",
            "  inflating: /kaggle/working/nltk_data/corpora/omw-1.4/als/wn-data-als.tab  \n",
            "  inflating: /kaggle/working/nltk_data/corpora/omw-1.4/als/LICENSE  \n",
            "  inflating: /kaggle/working/nltk_data/corpora/omw-1.4/als/citation.bib  \n",
            "  inflating: /kaggle/working/nltk_data/corpora/omw-1.4/als/README  \n",
            "   creating: /kaggle/working/nltk_data/corpora/omw-1.4/pol/\n",
            "  inflating: /kaggle/working/nltk_data/corpora/omw-1.4/pol/LICENSE  \n",
            "  inflating: /kaggle/working/nltk_data/corpora/omw-1.4/pol/citation.bib  \n",
            "  inflating: /kaggle/working/nltk_data/corpora/omw-1.4/pol/wn-data-pol.tab  \n",
            "   creating: /kaggle/working/nltk_data/corpora/omw-1.4/hrv/\n",
            " extracting: /kaggle/working/nltk_data/corpora/omw-1.4/hrv/LICENSE  \n",
            "  inflating: /kaggle/working/nltk_data/corpora/omw-1.4/hrv/citation.bib  \n",
            "  inflating: /kaggle/working/nltk_data/corpora/omw-1.4/hrv/wn-data-hrv.tab  \n",
            "  inflating: /kaggle/working/nltk_data/corpora/omw-1.4/hrv/README  \n",
            "  inflating: /kaggle/working/nltk_data/corpora/omw-1.4/citation.bib  \n",
            "   creating: /kaggle/working/nltk_data/corpora/omw-1.4/iwn/\n",
            "  inflating: /kaggle/working/nltk_data/corpora/omw-1.4/iwn/LICENSE  \n",
            "  inflating: /kaggle/working/nltk_data/corpora/omw-1.4/iwn/citation.bib  \n",
            "  inflating: /kaggle/working/nltk_data/corpora/omw-1.4/iwn/wn-data-ita.tab  \n",
            "  inflating: /kaggle/working/nltk_data/corpora/omw-1.4/iwn/README  \n",
            "   creating: /kaggle/working/nltk_data/corpora/omw-1.4/nld/\n",
            "  inflating: /kaggle/working/nltk_data/corpora/omw-1.4/nld/LICENSE  \n",
            "  inflating: /kaggle/working/nltk_data/corpora/omw-1.4/nld/wn-data-nld.tab  \n",
            "  inflating: /kaggle/working/nltk_data/corpora/omw-1.4/nld/citation.bib  \n",
            "   creating: /kaggle/working/nltk_data/corpora/omw-1.4/ron/\n",
            "  inflating: /kaggle/working/nltk_data/corpora/omw-1.4/ron/LICENSE  \n",
            "  inflating: /kaggle/working/nltk_data/corpora/omw-1.4/ron/citation.bib  \n",
            "  inflating: /kaggle/working/nltk_data/corpora/omw-1.4/ron/wn-data-ron.tab  \n",
            "  inflating: /kaggle/working/nltk_data/corpora/omw-1.4/ron/README  \n",
            "   creating: /kaggle/working/nltk_data/corpora/omw-1.4/arb/\n",
            "  inflating: /kaggle/working/nltk_data/corpora/omw-1.4/arb/LICENSE  \n",
            "  inflating: /kaggle/working/nltk_data/corpora/omw-1.4/arb/citation.bib  \n",
            "  inflating: /kaggle/working/nltk_data/corpora/omw-1.4/arb/README  \n",
            "  inflating: /kaggle/working/nltk_data/corpora/omw-1.4/arb/wn-data-arb.tab  \n",
            "   creating: /kaggle/working/nltk_data/corpora/omw-1.4/isl/\n",
            "  inflating: /kaggle/working/nltk_data/corpora/omw-1.4/isl/LICENSE  \n",
            "  inflating: /kaggle/working/nltk_data/corpora/omw-1.4/isl/citation.bib  \n",
            "  inflating: /kaggle/working/nltk_data/corpora/omw-1.4/isl/README  \n",
            "  inflating: /kaggle/working/nltk_data/corpora/omw-1.4/isl/wn-data-isl.tab  \n",
            "   creating: /kaggle/working/nltk_data/corpora/omw-1.4/swe/\n",
            "  inflating: /kaggle/working/nltk_data/corpora/omw-1.4/swe/LICENSE  \n",
            "  inflating: /kaggle/working/nltk_data/corpora/omw-1.4/swe/citation.bib  \n",
            "  inflating: /kaggle/working/nltk_data/corpora/omw-1.4/swe/README  \n",
            "  inflating: /kaggle/working/nltk_data/corpora/omw-1.4/swe/wn-data-swe.tab  \n",
            "   creating: /kaggle/working/nltk_data/corpora/omw-1.4/por/\n",
            "  inflating: /kaggle/working/nltk_data/corpora/omw-1.4/por/LICENSE  \n",
            "  inflating: /kaggle/working/nltk_data/corpora/omw-1.4/por/citation.bib  \n",
            "  inflating: /kaggle/working/nltk_data/corpora/omw-1.4/por/wn-data-por.tab  \n",
            "  inflating: /kaggle/working/nltk_data/corpora/omw-1.4/por/README  \n",
            "  inflating: /kaggle/working/nltk_data/corpora/omw-1.4/README  \n",
            "   creating: /kaggle/working/nltk_data/corpora/omw-1.4/cow/\n",
            "  inflating: /kaggle/working/nltk_data/corpora/omw-1.4/cow/wn-data-cmn.tab  \n",
            "  inflating: /kaggle/working/nltk_data/corpora/omw-1.4/cow/LICENSE  \n",
            "  inflating: /kaggle/working/nltk_data/corpora/omw-1.4/cow/citation.bib  \n",
            "   creating: /kaggle/working/nltk_data/corpora/omw-1.4/jpn/\n",
            "  inflating: /kaggle/working/nltk_data/corpora/omw-1.4/jpn/LICENSE  \n",
            "  inflating: /kaggle/working/nltk_data/corpora/omw-1.4/jpn/citation.bib  \n",
            "  inflating: /kaggle/working/nltk_data/corpora/omw-1.4/jpn/README  \n",
            "  inflating: /kaggle/working/nltk_data/corpora/omw-1.4/jpn/wn-data-jpn.tab  \n",
            "   creating: /kaggle/working/nltk_data/corpora/omw-1.4/dan/\n",
            "  inflating: /kaggle/working/nltk_data/corpora/omw-1.4/dan/LICENSE  \n",
            "  inflating: /kaggle/working/nltk_data/corpora/omw-1.4/dan/citation.bib  \n",
            "  inflating: /kaggle/working/nltk_data/corpora/omw-1.4/dan/wn-data-dan.tab  \n",
            "   creating: /kaggle/working/nltk_data/corpora/omw-1.4/slk/\n",
            "  inflating: /kaggle/working/nltk_data/corpora/omw-1.4/slk/LICENSE  \n",
            "  inflating: /kaggle/working/nltk_data/corpora/omw-1.4/slk/citation.bib  \n",
            "  inflating: /kaggle/working/nltk_data/corpora/omw-1.4/slk/wn-data-slk.tab  \n",
            "  inflating: /kaggle/working/nltk_data/corpora/omw-1.4/slk/wn-data-lit.tab  \n",
            "  inflating: /kaggle/working/nltk_data/corpora/omw-1.4/slk/README  \n",
            "   creating: /kaggle/working/nltk_data/corpora/omw-1.4/bul/\n",
            "  inflating: /kaggle/working/nltk_data/corpora/omw-1.4/bul/LICENSE  \n",
            "  inflating: /kaggle/working/nltk_data/corpora/omw-1.4/bul/citation.bib  \n",
            "  inflating: /kaggle/working/nltk_data/corpora/omw-1.4/bul/wn-data-bul.tab  \n",
            "  inflating: /kaggle/working/nltk_data/corpora/omw-1.4/bul/README  \n",
            "   creating: /kaggle/working/nltk_data/corpora/omw-1.4/mcr/\n",
            "  inflating: /kaggle/working/nltk_data/corpora/omw-1.4/mcr/LICENSE  \n",
            "  inflating: /kaggle/working/nltk_data/corpora/omw-1.4/mcr/citation.bib  \n",
            "  inflating: /kaggle/working/nltk_data/corpora/omw-1.4/mcr/wn-data-eus.tab  \n",
            "  inflating: /kaggle/working/nltk_data/corpora/omw-1.4/mcr/wn-data-cat.tab  \n",
            "  inflating: /kaggle/working/nltk_data/corpora/omw-1.4/mcr/wn-data-glg.tab  \n",
            "  inflating: /kaggle/working/nltk_data/corpora/omw-1.4/mcr/wn-data-spa.tab  \n",
            "   creating: /kaggle/working/nltk_data/corpora/omw-1.4/ell/\n",
            "  inflating: /kaggle/working/nltk_data/corpora/omw-1.4/ell/LICENSE  \n",
            "  inflating: /kaggle/working/nltk_data/corpora/omw-1.4/ell/wn-data-ell.tab  \n",
            "  inflating: /kaggle/working/nltk_data/corpora/omw-1.4/ell/README  \n",
            "   creating: /kaggle/working/nltk_data/corpora/omw-1.4/msa/\n",
            "  inflating: /kaggle/working/nltk_data/corpora/omw-1.4/msa/LICENSE  \n",
            "  inflating: /kaggle/working/nltk_data/corpora/omw-1.4/msa/citation.bib  \n",
            "  inflating: /kaggle/working/nltk_data/corpora/omw-1.4/msa/wn-data-zsm.tab  \n",
            "  inflating: /kaggle/working/nltk_data/corpora/omw-1.4/msa/wn-data-ind.tab  \n",
            "  inflating: /kaggle/working/nltk_data/corpora/omw-1.4/msa/README  \n",
            "   creating: /kaggle/working/nltk_data/corpora/omw-1.4/fra/\n",
            "  inflating: /kaggle/working/nltk_data/corpora/omw-1.4/fra/LICENSE  \n",
            "  inflating: /kaggle/working/nltk_data/corpora/omw-1.4/fra/citation.bib  \n",
            "  inflating: /kaggle/working/nltk_data/corpora/omw-1.4/fra/wn-data-fra.tab  \n",
            "   creating: /kaggle/working/nltk_data/corpora/omw-1.4/tha/\n",
            "  inflating: /kaggle/working/nltk_data/corpora/omw-1.4/tha/LICENSE  \n",
            "  inflating: /kaggle/working/nltk_data/corpora/omw-1.4/tha/citation.bib  \n",
            "  inflating: /kaggle/working/nltk_data/corpora/omw-1.4/tha/wn-data-tha.tab  \n"
          ]
        }
      ]
    },
    {
      "cell_type": "code",
      "source": [
        "print (\"After tokenization...\")\n",
        "train = tokenize_dataset(train)\n",
        "test  = tokenize_dataset(test)\n",
        "print(train)\n",
        "print(test)"
      ],
      "metadata": {
        "id": "eqFX46QewLPB",
        "colab": {
          "base_uri": "https://localhost:8080/"
        },
        "outputId": "90bf3748-d4db-4f50-b06d-434d29035be8"
      },
      "execution_count": 9,
      "outputs": [
        {
          "output_type": "stream",
          "name": "stdout",
          "text": [
            "After tokenization...\n",
            "                                                    text sentiment\n",
            "0                              [would, responded, going]   neutral\n",
            "1                                          [miss, diego]  negative\n",
            "2                                             [bullying]  negative\n",
            "3                              [interview, leave, alone]  negative\n",
            "4                      [could, release, already, bought]  negative\n",
            "...                                                  ...       ...\n",
            "27476  [wish, could, come, denver, husband, lost, aff...  negative\n",
            "27477  [wondered, rake, client, made, clear, force, d...  negative\n",
            "27478  [good, enjoy, break, probably, need, hectic, w...  positive\n",
            "27479                                            [worth]  positive\n",
            "27480                           [flirting, going, smile]   neutral\n",
            "\n",
            "[27481 rows x 2 columns]\n",
            "                                                   text sentiment\n",
            "0                                       [last, session]   neutral\n",
            "1     [shanghai, also, really, exciting, precisely, ...  positive\n",
            "2     [recession, veronique, branquinho, quit, compa...  negative\n",
            "3                                     [happy, birthday]  positive\n",
            "4                                                [like]  positive\n",
            "...                                                 ...       ...\n",
            "3529                                     [tired, sleep]  negative\n",
            "3530  [alone, house, thanks, keep, alive, kicking, w...  positive\n",
            "3531  [know, mean, little, sinking, depression, want...  negative\n",
            "3532         [sutra, next, youtube, video, going, love]  positive\n",
            "3533                                     [omgssh, cute]  positive\n",
            "\n",
            "[3534 rows x 2 columns]\n"
          ]
        }
      ]
    },
    {
      "cell_type": "code",
      "source": [
        "from sklearn.model_selection import train_test_split\n",
        "\n",
        "# Assuming 'text' is the feature and 'sentiment' is the target\n",
        "X = train['text']\n",
        "y = train['sentiment']\n",
        "\n",
        "# Split the training data\n",
        "X_train, X_test, y_train, y_test = train_test_split(X, y, test_size=0.2, random_state=42, stratify=y)\n",
        "\n",
        "print (X_train.head())\n",
        "print (y_train.head())\n",
        "print (X_test.head())\n",
        "print (y_test.head())"
      ],
      "metadata": {
        "id": "XiMBjOwd0JIa",
        "colab": {
          "base_uri": "https://localhost:8080/"
        },
        "outputId": "a77e623c-730b-4676-a81e-3adb970fbeaf"
      },
      "execution_count": 10,
      "outputs": [
        {
          "output_type": "stream",
          "name": "stdout",
          "text": [
            "7025     [grade, yearbook, narnia, movie, release, blur...\n",
            "15039    [remember, would, sleep, noon, well, guess, to...\n",
            "1804         [momma, comin, night, morrow, tennis, yuppie]\n",
            "25874            [picture, come, keep, saying, nice, ques]\n",
            "27217    [feel, comfortable, using, awful, pretty, icky...\n",
            "Name: text, dtype: object\n",
            "7025      neutral\n",
            "15039    negative\n",
            "1804     positive\n",
            "25874     neutral\n",
            "27217    negative\n",
            "Name: sentiment, dtype: object\n",
            "24673                [sound, lonely, want, drive, snuggle]\n",
            "25892                               [worried, safe, sound]\n",
            "8824     [getting, ready, going, away, dessert, recepti...\n",
            "15589                                  [think, disgusting]\n",
            "11341             [know, want, come, excited, going, fast]\n",
            "Name: text, dtype: object\n",
            "24673    negative\n",
            "25892    positive\n",
            "8824      neutral\n",
            "15589    negative\n",
            "11341    positive\n",
            "Name: sentiment, dtype: object\n"
          ]
        }
      ]
    },
    {
      "cell_type": "code",
      "source": [
        "!pip install tensorflow"
      ],
      "metadata": {
        "colab": {
          "base_uri": "https://localhost:8080/"
        },
        "id": "xSJH_LV5-ZyR",
        "outputId": "5eaa7224-df55-4dfd-8558-4f58075c8f49"
      },
      "execution_count": 11,
      "outputs": [
        {
          "output_type": "stream",
          "name": "stdout",
          "text": [
            "Requirement already satisfied: tensorflow in /usr/local/lib/python3.11/dist-packages (2.18.0)\n",
            "Requirement already satisfied: absl-py>=1.0.0 in /usr/local/lib/python3.11/dist-packages (from tensorflow) (1.4.0)\n",
            "Requirement already satisfied: astunparse>=1.6.0 in /usr/local/lib/python3.11/dist-packages (from tensorflow) (1.6.3)\n",
            "Requirement already satisfied: flatbuffers>=24.3.25 in /usr/local/lib/python3.11/dist-packages (from tensorflow) (25.2.10)\n",
            "Requirement already satisfied: gast!=0.5.0,!=0.5.1,!=0.5.2,>=0.2.1 in /usr/local/lib/python3.11/dist-packages (from tensorflow) (0.6.0)\n",
            "Requirement already satisfied: google-pasta>=0.1.1 in /usr/local/lib/python3.11/dist-packages (from tensorflow) (0.2.0)\n",
            "Requirement already satisfied: libclang>=13.0.0 in /usr/local/lib/python3.11/dist-packages (from tensorflow) (18.1.1)\n",
            "Requirement already satisfied: opt-einsum>=2.3.2 in /usr/local/lib/python3.11/dist-packages (from tensorflow) (3.4.0)\n",
            "Requirement already satisfied: packaging in /usr/local/lib/python3.11/dist-packages (from tensorflow) (24.2)\n",
            "Requirement already satisfied: protobuf!=4.21.0,!=4.21.1,!=4.21.2,!=4.21.3,!=4.21.4,!=4.21.5,<6.0.0dev,>=3.20.3 in /usr/local/lib/python3.11/dist-packages (from tensorflow) (5.29.5)\n",
            "Requirement already satisfied: requests<3,>=2.21.0 in /usr/local/lib/python3.11/dist-packages (from tensorflow) (2.32.3)\n",
            "Requirement already satisfied: setuptools in /usr/local/lib/python3.11/dist-packages (from tensorflow) (75.2.0)\n",
            "Requirement already satisfied: six>=1.12.0 in /usr/local/lib/python3.11/dist-packages (from tensorflow) (1.17.0)\n",
            "Requirement already satisfied: termcolor>=1.1.0 in /usr/local/lib/python3.11/dist-packages (from tensorflow) (3.1.0)\n",
            "Requirement already satisfied: typing-extensions>=3.6.6 in /usr/local/lib/python3.11/dist-packages (from tensorflow) (4.14.0)\n",
            "Requirement already satisfied: wrapt>=1.11.0 in /usr/local/lib/python3.11/dist-packages (from tensorflow) (1.17.2)\n",
            "Requirement already satisfied: grpcio<2.0,>=1.24.3 in /usr/local/lib/python3.11/dist-packages (from tensorflow) (1.72.1)\n",
            "Requirement already satisfied: tensorboard<2.19,>=2.18 in /usr/local/lib/python3.11/dist-packages (from tensorflow) (2.18.0)\n",
            "Requirement already satisfied: keras>=3.5.0 in /usr/local/lib/python3.11/dist-packages (from tensorflow) (3.8.0)\n",
            "Requirement already satisfied: numpy<2.1.0,>=1.26.0 in /usr/local/lib/python3.11/dist-packages (from tensorflow) (2.0.2)\n",
            "Requirement already satisfied: h5py>=3.11.0 in /usr/local/lib/python3.11/dist-packages (from tensorflow) (3.13.0)\n",
            "Requirement already satisfied: ml-dtypes<0.5.0,>=0.4.0 in /usr/local/lib/python3.11/dist-packages (from tensorflow) (0.4.1)\n",
            "Requirement already satisfied: tensorflow-io-gcs-filesystem>=0.23.1 in /usr/local/lib/python3.11/dist-packages (from tensorflow) (0.37.1)\n",
            "Requirement already satisfied: wheel<1.0,>=0.23.0 in /usr/local/lib/python3.11/dist-packages (from astunparse>=1.6.0->tensorflow) (0.45.1)\n",
            "Requirement already satisfied: rich in /usr/local/lib/python3.11/dist-packages (from keras>=3.5.0->tensorflow) (13.9.4)\n",
            "Requirement already satisfied: namex in /usr/local/lib/python3.11/dist-packages (from keras>=3.5.0->tensorflow) (0.1.0)\n",
            "Requirement already satisfied: optree in /usr/local/lib/python3.11/dist-packages (from keras>=3.5.0->tensorflow) (0.16.0)\n",
            "Requirement already satisfied: charset-normalizer<4,>=2 in /usr/local/lib/python3.11/dist-packages (from requests<3,>=2.21.0->tensorflow) (3.4.2)\n",
            "Requirement already satisfied: idna<4,>=2.5 in /usr/local/lib/python3.11/dist-packages (from requests<3,>=2.21.0->tensorflow) (3.10)\n",
            "Requirement already satisfied: urllib3<3,>=1.21.1 in /usr/local/lib/python3.11/dist-packages (from requests<3,>=2.21.0->tensorflow) (2.4.0)\n",
            "Requirement already satisfied: certifi>=2017.4.17 in /usr/local/lib/python3.11/dist-packages (from requests<3,>=2.21.0->tensorflow) (2025.4.26)\n",
            "Requirement already satisfied: markdown>=2.6.8 in /usr/local/lib/python3.11/dist-packages (from tensorboard<2.19,>=2.18->tensorflow) (3.8)\n",
            "Requirement already satisfied: tensorboard-data-server<0.8.0,>=0.7.0 in /usr/local/lib/python3.11/dist-packages (from tensorboard<2.19,>=2.18->tensorflow) (0.7.2)\n",
            "Requirement already satisfied: werkzeug>=1.0.1 in /usr/local/lib/python3.11/dist-packages (from tensorboard<2.19,>=2.18->tensorflow) (3.1.3)\n",
            "Requirement already satisfied: MarkupSafe>=2.1.1 in /usr/local/lib/python3.11/dist-packages (from werkzeug>=1.0.1->tensorboard<2.19,>=2.18->tensorflow) (3.0.2)\n",
            "Requirement already satisfied: markdown-it-py>=2.2.0 in /usr/local/lib/python3.11/dist-packages (from rich->keras>=3.5.0->tensorflow) (3.0.0)\n",
            "Requirement already satisfied: pygments<3.0.0,>=2.13.0 in /usr/local/lib/python3.11/dist-packages (from rich->keras>=3.5.0->tensorflow) (2.19.1)\n",
            "Requirement already satisfied: mdurl~=0.1 in /usr/local/lib/python3.11/dist-packages (from markdown-it-py>=2.2.0->rich->keras>=3.5.0->tensorflow) (0.1.2)\n"
          ]
        }
      ]
    },
    {
      "cell_type": "code",
      "source": [
        "from tensorflow.keras.preprocessing.text import Tokenizer\n",
        "from tensorflow.keras.preprocessing.sequence import pad_sequences\n",
        "\n",
        "max_vocab = 20000\n",
        "tokenizer = Tokenizer(num_words=max_vocab)\n",
        "tokenizer.fit_on_texts(X_train)\n",
        "word_idx = tokenizer.word_index  # Corrected syntax for accessing word index\n",
        "v = len(word_idx)\n",
        "print(\"the size of vocab =\", v)  # Corrected spacing\n",
        "X_train = tokenizer.texts_to_sequences(X_train)\n",
        "X_test = tokenizer.texts_to_sequences(X_test)"
      ],
      "metadata": {
        "id": "HdsrEID1xy15",
        "colab": {
          "base_uri": "https://localhost:8080/"
        },
        "outputId": "8cbb6467-604e-4162-a7f0-97848520ee12"
      },
      "execution_count": 12,
      "outputs": [
        {
          "output_type": "stream",
          "name": "stdout",
          "text": [
            "the size of vocab = 16111\n"
          ]
        }
      ]
    },
    {
      "cell_type": "code",
      "source": [
        "from tensorflow.keras.preprocessing.sequence import pad_sequences\n",
        "\n",
        "maxlen = 100\n",
        "X_train = pad_sequences(X_train,maxlen=maxlen)\n",
        "X_test = pad_sequences(X_test,maxlen=maxlen)\n",
        "\n",
        "print (X_train)\n",
        "print (X_test)"
      ],
      "metadata": {
        "id": "WUiI1KN31Xsk",
        "colab": {
          "base_uri": "https://localhost:8080/"
        },
        "outputId": "e39a4077-85a1-4c06-e56e-90e1bc49df0b"
      },
      "execution_count": 13,
      "outputs": [
        {
          "output_type": "stream",
          "name": "stdout",
          "text": [
            "[[   0    0    0 ... 6556 6557 6558]\n",
            " [   0    0    0 ...   27    3 1276]\n",
            " [   0    0    0 ... 1751 2854 6559]\n",
            " ...\n",
            " [   0    0    0 ...    0   23   66]\n",
            " [   0    0    0 ...   34   52   48]\n",
            " [   0    0    0 ...   93  122   54]]\n",
            "[[    0     0     0 ...     8   284  2741]\n",
            " [    0     0     0 ...   780   574   132]\n",
            " [    0     0     0 ...  1986  1817    55]\n",
            " ...\n",
            " [    0     0     0 ...    27  1647   233]\n",
            " [    0     0     0 ...   285    48  2795]\n",
            " [    0     0     0 ...   252 12092  1462]]\n"
          ]
        }
      ]
    },
    {
      "cell_type": "code",
      "source": [
        "y.value_counts()"
      ],
      "metadata": {
        "id": "t5PlhsGu2dFD",
        "colab": {
          "base_uri": "https://localhost:8080/",
          "height": 210
        },
        "outputId": "26e9a9f5-d1dd-4aee-de8d-dce1751d06c4"
      },
      "execution_count": 14,
      "outputs": [
        {
          "output_type": "execute_result",
          "data": {
            "text/plain": [
              "sentiment\n",
              "neutral     11118\n",
              "positive     8582\n",
              "negative     7781\n",
              "Name: count, dtype: int64"
            ],
            "text/html": [
              "<div>\n",
              "<style scoped>\n",
              "    .dataframe tbody tr th:only-of-type {\n",
              "        vertical-align: middle;\n",
              "    }\n",
              "\n",
              "    .dataframe tbody tr th {\n",
              "        vertical-align: top;\n",
              "    }\n",
              "\n",
              "    .dataframe thead th {\n",
              "        text-align: right;\n",
              "    }\n",
              "</style>\n",
              "<table border=\"1\" class=\"dataframe\">\n",
              "  <thead>\n",
              "    <tr style=\"text-align: right;\">\n",
              "      <th></th>\n",
              "      <th>count</th>\n",
              "    </tr>\n",
              "    <tr>\n",
              "      <th>sentiment</th>\n",
              "      <th></th>\n",
              "    </tr>\n",
              "  </thead>\n",
              "  <tbody>\n",
              "    <tr>\n",
              "      <th>neutral</th>\n",
              "      <td>11118</td>\n",
              "    </tr>\n",
              "    <tr>\n",
              "      <th>positive</th>\n",
              "      <td>8582</td>\n",
              "    </tr>\n",
              "    <tr>\n",
              "      <th>negative</th>\n",
              "      <td>7781</td>\n",
              "    </tr>\n",
              "  </tbody>\n",
              "</table>\n",
              "</div><br><label><b>dtype:</b> int64</label>"
            ]
          },
          "metadata": {},
          "execution_count": 14
        }
      ]
    },
    {
      "cell_type": "markdown",
      "source": [
        "# LSTM\n"
      ],
      "metadata": {
        "id": "d7bOp4Ud1T8g"
      }
    },
    {
      "cell_type": "code",
      "source": [
        "from keras.models import Sequential\n",
        "from keras.layers import Embedding, LSTM, Dense,Input,GlobalMaxPooling1D,Dropout,Bidirectional\n",
        "from tensorflow.keras.models import Model\n",
        "from keras import optimizers\n",
        "import numpy as np\n",
        "D=100\n",
        "inputt=Input(shape=(maxlen,))"
      ],
      "metadata": {
        "id": "kcrEYZOm1Oz8"
      },
      "execution_count": 15,
      "outputs": []
    },
    {
      "cell_type": "code",
      "source": [
        "from tensorflow.keras.optimizers import Adam\n",
        "learning_rate = 0.0001  # Set your desired learning rate here\n",
        "x=Embedding(v+1,D)(inputt)\n",
        "x = Dropout(0.5)(x)\n",
        "x = Bidirectional(LSTM(300,\n",
        "                       dropout=0.0,\n",
        "                       recurrent_dropout=0.0,\n",
        "                       ))(x)\n",
        "x = Dense(32, activation='relu')(x)\n",
        "x = Dense(3, activation='softmax')(x)\n",
        "\n",
        "model = Model(inputt, x)\n",
        "\n",
        "# Define optimizer with specified learning rate\n",
        "optimizer = Adam(learning_rate=learning_rate)\n",
        "\n",
        "model.compile(optimizer=optimizer, loss='categorical_crossentropy', metrics=['accuracy'])"
      ],
      "metadata": {
        "id": "rTFD-JWv1vUz"
      },
      "execution_count": 16,
      "outputs": []
    },
    {
      "cell_type": "code",
      "source": [
        "from sklearn.preprocessing import LabelEncoder\n",
        "\n",
        "label_encoder = LabelEncoder()\n",
        "y_train_encoded = label_encoder.fit_transform(y_train)\n",
        "y_test_encoded = label_encoder.transform(y_test)"
      ],
      "metadata": {
        "id": "7sHy734c1x_x"
      },
      "execution_count": 17,
      "outputs": []
    },
    {
      "cell_type": "code",
      "source": [
        "import tensorflow as tf\n",
        "\n",
        "# Convert labels to one-hot encoding\n",
        "y_train_one_hot = tf.keras.utils.to_categorical(y_train_encoded)\n",
        "y_test_one_hot = tf.keras.utils.to_categorical(y_test_encoded)\n",
        "\n",
        "# Define callbacks\n",
        "# ModelCheckpoint to save the best weights based on validation loss\n",
        "checkpoint = tf.keras.callbacks.ModelCheckpoint(\n",
        "    'best_model_weights.keras',  # Filepath to save the best weights\n",
        "    monitor='val_loss',       # Metric to monitor\n",
        "    save_best_only=True,      # Save only the best weights\n",
        "    mode='min',               # Minimize validation loss\n",
        "    verbose=1                 # Print when weights are saved\n",
        ")\n",
        "\n",
        "# EarlyStopping to stop training after 5 non-improving epochs\n",
        "early_stopping = tf.keras.callbacks.EarlyStopping(\n",
        "    monitor='val_loss',       # Metric to monitor\n",
        "    patience=5,               # Number of epochs with no improvement to wait\n",
        "    mode='min',               # Minimize validation loss\n",
        "    verbose=1,                # Print when training stops\n",
        "    restore_best_weights=True # Restore weights from the best epoch\n",
        ")\n",
        "\n",
        "# Train the model with the callbacks\n",
        "history = model.fit(\n",
        "    X_train,\n",
        "    y_train_one_hot,\n",
        "    epochs=40,\n",
        "    validation_data=(X_test, y_test_one_hot),\n",
        "    callbacks=[checkpoint, early_stopping]  # Add both callbacks\n",
        ")"
      ],
      "metadata": {
        "id": "4xhvHw6J11EJ",
        "colab": {
          "base_uri": "https://localhost:8080/"
        },
        "outputId": "20000cfb-9b59-46df-a403-8fb81c4e761c"
      },
      "execution_count": 18,
      "outputs": [
        {
          "output_type": "stream",
          "name": "stdout",
          "text": [
            "Epoch 1/40\n",
            "\u001b[1m685/687\u001b[0m \u001b[32m━━━━━━━━━━━━━━━━━━━\u001b[0m\u001b[37m━\u001b[0m \u001b[1m0s\u001b[0m 22ms/step - accuracy: 0.4155 - loss: 1.0800\n",
            "Epoch 1: val_loss improved from inf to 0.91124, saving model to best_model_weights.keras\n",
            "\u001b[1m687/687\u001b[0m \u001b[32m━━━━━━━━━━━━━━━━━━━━\u001b[0m\u001b[37m\u001b[0m \u001b[1m29s\u001b[0m 25ms/step - accuracy: 0.4156 - loss: 1.0799 - val_accuracy: 0.5754 - val_loss: 0.9112\n",
            "Epoch 2/40\n",
            "\u001b[1m685/687\u001b[0m \u001b[32m━━━━━━━━━━━━━━━━━━━\u001b[0m\u001b[37m━\u001b[0m \u001b[1m0s\u001b[0m 18ms/step - accuracy: 0.5930 - loss: 0.8770\n",
            "Epoch 2: val_loss improved from 0.91124 to 0.79552, saving model to best_model_weights.keras\n",
            "\u001b[1m687/687\u001b[0m \u001b[32m━━━━━━━━━━━━━━━━━━━━\u001b[0m\u001b[37m\u001b[0m \u001b[1m14s\u001b[0m 20ms/step - accuracy: 0.5931 - loss: 0.8768 - val_accuracy: 0.6480 - val_loss: 0.7955\n",
            "Epoch 3/40\n",
            "\u001b[1m687/687\u001b[0m \u001b[32m━━━━━━━━━━━━━━━━━━━━\u001b[0m\u001b[37m\u001b[0m \u001b[1m0s\u001b[0m 18ms/step - accuracy: 0.6763 - loss: 0.7606\n",
            "Epoch 3: val_loss improved from 0.79552 to 0.75683, saving model to best_model_weights.keras\n",
            "\u001b[1m687/687\u001b[0m \u001b[32m━━━━━━━━━━━━━━━━━━━━\u001b[0m\u001b[37m\u001b[0m \u001b[1m21s\u001b[0m 21ms/step - accuracy: 0.6763 - loss: 0.7606 - val_accuracy: 0.6780 - val_loss: 0.7568\n",
            "Epoch 4/40\n",
            "\u001b[1m686/687\u001b[0m \u001b[32m━━━━━━━━━━━━━━━━━━━\u001b[0m\u001b[37m━\u001b[0m \u001b[1m0s\u001b[0m 19ms/step - accuracy: 0.7119 - loss: 0.6977\n",
            "Epoch 4: val_loss improved from 0.75683 to 0.74110, saving model to best_model_weights.keras\n",
            "\u001b[1m687/687\u001b[0m \u001b[32m━━━━━━━━━━━━━━━━━━━━\u001b[0m\u001b[37m\u001b[0m \u001b[1m21s\u001b[0m 21ms/step - accuracy: 0.7119 - loss: 0.6977 - val_accuracy: 0.6880 - val_loss: 0.7411\n",
            "Epoch 5/40\n",
            "\u001b[1m687/687\u001b[0m \u001b[32m━━━━━━━━━━━━━━━━━━━━\u001b[0m\u001b[37m\u001b[0m \u001b[1m0s\u001b[0m 19ms/step - accuracy: 0.7348 - loss: 0.6568\n",
            "Epoch 5: val_loss improved from 0.74110 to 0.73849, saving model to best_model_weights.keras\n",
            "\u001b[1m687/687\u001b[0m \u001b[32m━━━━━━━━━━━━━━━━━━━━\u001b[0m\u001b[37m\u001b[0m \u001b[1m20s\u001b[0m 21ms/step - accuracy: 0.7348 - loss: 0.6567 - val_accuracy: 0.6891 - val_loss: 0.7385\n",
            "Epoch 6/40\n",
            "\u001b[1m685/687\u001b[0m \u001b[32m━━━━━━━━━━━━━━━━━━━\u001b[0m\u001b[37m━\u001b[0m \u001b[1m0s\u001b[0m 19ms/step - accuracy: 0.7578 - loss: 0.6074\n",
            "Epoch 6: val_loss did not improve from 0.73849\n",
            "\u001b[1m687/687\u001b[0m \u001b[32m━━━━━━━━━━━━━━━━━━━━\u001b[0m\u001b[37m\u001b[0m \u001b[1m21s\u001b[0m 21ms/step - accuracy: 0.7578 - loss: 0.6074 - val_accuracy: 0.6898 - val_loss: 0.7543\n",
            "Epoch 7/40\n",
            "\u001b[1m687/687\u001b[0m \u001b[32m━━━━━━━━━━━━━━━━━━━━\u001b[0m\u001b[37m\u001b[0m \u001b[1m0s\u001b[0m 19ms/step - accuracy: 0.7743 - loss: 0.5703\n",
            "Epoch 7: val_loss did not improve from 0.73849\n",
            "\u001b[1m687/687\u001b[0m \u001b[32m━━━━━━━━━━━━━━━━━━━━\u001b[0m\u001b[37m\u001b[0m \u001b[1m20s\u001b[0m 21ms/step - accuracy: 0.7743 - loss: 0.5703 - val_accuracy: 0.6915 - val_loss: 0.7661\n",
            "Epoch 8/40\n",
            "\u001b[1m686/687\u001b[0m \u001b[32m━━━━━━━━━━━━━━━━━━━\u001b[0m\u001b[37m━\u001b[0m \u001b[1m0s\u001b[0m 19ms/step - accuracy: 0.7960 - loss: 0.5283\n",
            "Epoch 8: val_loss did not improve from 0.73849\n",
            "\u001b[1m687/687\u001b[0m \u001b[32m━━━━━━━━━━━━━━━━━━━━\u001b[0m\u001b[37m\u001b[0m \u001b[1m20s\u001b[0m 21ms/step - accuracy: 0.7960 - loss: 0.5283 - val_accuracy: 0.6929 - val_loss: 0.7659\n",
            "Epoch 9/40\n",
            "\u001b[1m687/687\u001b[0m \u001b[32m━━━━━━━━━━━━━━━━━━━━\u001b[0m\u001b[37m\u001b[0m \u001b[1m0s\u001b[0m 19ms/step - accuracy: 0.8027 - loss: 0.5074\n",
            "Epoch 9: val_loss did not improve from 0.73849\n",
            "\u001b[1m687/687\u001b[0m \u001b[32m━━━━━━━━━━━━━━━━━━━━\u001b[0m\u001b[37m\u001b[0m \u001b[1m20s\u001b[0m 21ms/step - accuracy: 0.8027 - loss: 0.5074 - val_accuracy: 0.6884 - val_loss: 0.7720\n",
            "Epoch 10/40\n",
            "\u001b[1m685/687\u001b[0m \u001b[32m━━━━━━━━━━━━━━━━━━━\u001b[0m\u001b[37m━\u001b[0m \u001b[1m0s\u001b[0m 19ms/step - accuracy: 0.8079 - loss: 0.4937\n",
            "Epoch 10: val_loss did not improve from 0.73849\n",
            "\u001b[1m687/687\u001b[0m \u001b[32m━━━━━━━━━━━━━━━━━━━━\u001b[0m\u001b[37m\u001b[0m \u001b[1m14s\u001b[0m 21ms/step - accuracy: 0.8079 - loss: 0.4937 - val_accuracy: 0.6871 - val_loss: 0.7998\n",
            "Epoch 10: early stopping\n",
            "Restoring model weights from the end of the best epoch: 5.\n"
          ]
        }
      ]
    },
    {
      "cell_type": "code",
      "source": [
        "import matplotlib.pyplot as plt\n",
        "\n",
        "# Plot training & validation accuracy values\n",
        "plt.plot(history.history['accuracy'])\n",
        "plt.plot(history.history['val_accuracy'])\n",
        "plt.title('Model accuracy')\n",
        "plt.xlabel('Epoch')\n",
        "plt.ylabel('Accuracy')\n",
        "plt.legend(['Train', 'Test'], loc='upper left')\n",
        "plt.show()\n",
        "\n",
        "# Plot training & validation loss values\n",
        "plt.plot(history.history['loss'])\n",
        "plt.plot(history.history['val_loss'])\n",
        "plt.title('Model loss')\n",
        "plt.xlabel('Epoch')\n",
        "plt.ylabel('Loss')\n",
        "plt.legend(['Train', 'Test'], loc='upper left')\n",
        "plt.show()"
      ],
      "metadata": {
        "id": "l8yoKAEw18iK",
        "colab": {
          "base_uri": "https://localhost:8080/",
          "height": 927
        },
        "outputId": "054332da-97b6-4ab2-dcd9-cc13463f20a9"
      },
      "execution_count": 19,
      "outputs": [
        {
          "output_type": "display_data",
          "data": {
            "text/plain": [
              "<Figure size 640x480 with 1 Axes>"
            ],
            "image/png": "[encoded data removed]"
          },
          "metadata": {}
        },
        {
          "output_type": "display_data",
          "data": {
            "text/plain": [
              "<Figure size 640x480 with 1 Axes>"
            ],
            "image/png": "[encoded data removed]"
          },
          "metadata": {}
        }
      ]
    },
    {
      "cell_type": "code",
      "source": [
        "# Evaluate the model on the test data\n",
        "loss, accuracy = model.evaluate(X_test, y_test_one_hot)\n",
        "\n",
        "print(\"Test Loss:\", loss)\n",
        "print(\"Test Accuracy:\", accuracy)\n"
      ],
      "metadata": {
        "id": "8B_jqkTX1-6a",
        "colab": {
          "base_uri": "https://localhost:8080/"
        },
        "outputId": "35b3bb13-1fab-493a-ea05-41f769e5f3b8"
      },
      "execution_count": 20,
      "outputs": [
        {
          "output_type": "stream",
          "name": "stdout",
          "text": [
            "\u001b[1m172/172\u001b[0m \u001b[32m━━━━━━━━━━━━━━━━━━━━\u001b[0m\u001b[37m\u001b[0m \u001b[1m1s\u001b[0m 8ms/step - accuracy: 0.6940 - loss: 0.7345\n",
            "Test Loss: 0.7384929060935974\n",
            "Test Accuracy: 0.6891031265258789\n"
          ]
        }
      ]
    },
    {
      "cell_type": "code",
      "source": [
        "import matplotlib.pyplot as plt\n",
        "import seaborn as sns\n",
        "from sklearn.metrics import confusion_matrix\n",
        "import numpy as np\n",
        "\n",
        "\n",
        "y_pred_probs = model.predict(X_test)\n",
        "y_pred_labels = np.argmax(y_pred_probs, axis=1)\n",
        "y_true_labels = np.argmax(y_test_one_hot, axis=1)\n",
        "conf_matrix = confusion_matrix(y_true_labels, y_pred_labels)\n",
        "plt.figure(figsize=(8, 6))\n",
        "sns.heatmap(conf_matrix, annot=True, fmt='d', cmap='Blues',\n",
        "            xticklabels=['Class 0', 'Class 1', 'Class 2'],\n",
        "            yticklabels=['Class 0', 'Class 1', 'Class 2'])\n",
        "plt.xlabel('Predicted')\n",
        "plt.ylabel('True')\n",
        "plt.title('Confusion Matrix')\n",
        "plt.show()"
      ],
      "metadata": {
        "id": "bLiZ185B2JMA",
        "colab": {
          "base_uri": "https://localhost:8080/",
          "height": 581
        },
        "outputId": "5410fec4-a388-4e3f-d35c-0fdd9a23b4a0"
      },
      "execution_count": 21,
      "outputs": [
        {
          "output_type": "stream",
          "name": "stdout",
          "text": [
            "\u001b[1m172/172\u001b[0m \u001b[32m━━━━━━━━━━━━━━━━━━━━\u001b[0m\u001b[37m\u001b[0m \u001b[1m1s\u001b[0m 7ms/step\n"
          ]
        },
        {
          "output_type": "display_data",
          "data": {
            "text/plain": [
              "<Figure size 800x600 with 2 Axes>"
            ],
            "image/png": "[encoded data removed]"
          },
          "metadata": {}
        }
      ]
    },
    {
      "cell_type": "markdown",
      "source": [
        "# Model evalutaion on test dataset"
      ],
      "metadata": {
        "id": "3v3xrgIU31h8"
      }
    },
    {
      "cell_type": "code",
      "source": [
        "import numpy as np\n",
        "# Tokenize and pad the actual test set\n",
        "test_texts = test['text']\n",
        "test_sequences = tokenizer.texts_to_sequences(test_texts)\n",
        "X_test_actual = pad_sequences(test_sequences, maxlen=maxlen)\n",
        "\n",
        "# Make predictions on the actual test data\n",
        "test_pred_probs = model.predict(X_test_actual)\n"
      ],
      "metadata": {
        "id": "aMoP7U_93WWm",
        "colab": {
          "base_uri": "https://localhost:8080/"
        },
        "outputId": "c812ea25-4e28-4f85-c405-cc36ccb13432"
      },
      "execution_count": 22,
      "outputs": [
        {
          "output_type": "stream",
          "name": "stdout",
          "text": [
            "\u001b[1m111/111\u001b[0m \u001b[32m━━━━━━━━━━━━━━━━━━━━\u001b[0m\u001b[37m\u001b[0m \u001b[1m1s\u001b[0m 8ms/step\n"
          ]
        }
      ]
    },
    {
      "cell_type": "code",
      "source": [
        "# prompt: extract y_test_actual from test['sentiment'] and one hot encoding and calculate accuracy and output confusion matrix\n",
        "\n",
        "import matplotlib.pyplot as plt\n",
        "import numpy as np\n",
        "# Extract the actual sentiment labels from the test set\n",
        "y_test_actual = test['sentiment']\n",
        "\n",
        "# Encode the actual sentiment labels using the same LabelEncoder used for training\n",
        "y_test_actual_encoded = label_encoder.transform(y_test_actual)\n",
        "\n",
        "# Convert the actual sentiment labels to one-hot encoding\n",
        "y_test_actual_one_hot = tf.keras.utils.to_categorical(y_test_actual_encoded)\n",
        "\n",
        "# Evaluate the model on the actual test data\n",
        "loss_actual, accuracy_actual = model.evaluate(X_test_actual, y_test_actual_one_hot)\n",
        "\n",
        "print(\"Actual Test Loss:\", loss_actual)\n",
        "print(\"Actual Test Accuracy:\", accuracy_actual)\n",
        "\n",
        "# Get predicted labels for the actual test data\n",
        "y_test_actual_pred_labels = np.argmax(test_pred_probs, axis=1)\n",
        "y_test_actual_true_labels = np.argmax(y_test_actual_one_hot, axis=1)\n",
        "\n",
        "# Calculate and print the confusion matrix for the actual test data\n",
        "conf_matrix_actual = confusion_matrix(y_test_actual_true_labels, y_test_actual_pred_labels)\n",
        "\n",
        "plt.figure(figsize=(8, 6))\n",
        "sns.heatmap(conf_matrix_actual, annot=True, fmt='d', cmap='Blues',\n",
        "            xticklabels=label_encoder.classes_, # Use actual class labels\n",
        "            yticklabels=label_encoder.classes_) # Use actual class labels\n",
        "plt.xlabel('Predicted')\n",
        "plt.ylabel('True')\n",
        "plt.title('Confusion Matrix (Actual Test Data)')\n",
        "plt.show()"
      ],
      "metadata": {
        "id": "k0GCd6wR35lJ",
        "colab": {
          "base_uri": "https://localhost:8080/",
          "height": 616
        },
        "outputId": "80ba5179-5b12-43c7-b2d1-911d09de3757"
      },
      "execution_count": 23,
      "outputs": [
        {
          "output_type": "stream",
          "name": "stdout",
          "text": [
            "\u001b[1m111/111\u001b[0m \u001b[32m━━━━━━━━━━━━━━━━━━━━\u001b[0m\u001b[37m\u001b[0m \u001b[1m1s\u001b[0m 9ms/step - accuracy: 0.6919 - loss: 0.7337\n",
            "Actual Test Loss: 0.7388327717781067\n",
            "Actual Test Accuracy: 0.6796830892562866\n"
          ]
        },
        {
          "output_type": "display_data",
          "data": {
            "text/plain": [
              "<Figure size 800x600 with 2 Axes>"
            ],
            "image/png": "[encoded data removed]"
          },
          "metadata": {}
        }
      ]
    }
  ]
}